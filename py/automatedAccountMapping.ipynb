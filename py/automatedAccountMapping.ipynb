{
 "cells": [
  {
   "cell_type": "markdown",
   "metadata": {},
   "source": [
    "# Load file"
   ]
  },
  {
   "cell_type": "code",
   "execution_count": 2,
   "metadata": {
    "ExecuteTime": {
     "end_time": "2018-04-09T13:16:11.993697Z",
     "start_time": "2018-04-09T13:16:11.986601Z"
    }
   },
   "outputs": [],
   "source": [
    "# Load excel file that contains two columns \n",
    "\n",
    "#-----------------------------------------------------------\n",
    "# Source Col            ;           Target Col\n",
    "# 'Utilities'           ;   'Other manufacturing equipment'\n",
    "# 'Other stuff'         ;   'Other manufacturing equipment'\n",
    "#-----------------------------------------------------------"
   ]
  },
  {
   "cell_type": "code",
   "execution_count": 3,
   "metadata": {
    "ExecuteTime": {
     "end_time": "2018-04-09T13:16:15.441878Z",
     "start_time": "2018-04-09T13:16:15.163532Z"
    }
   },
   "outputs": [],
   "source": [
    "import pandas as pd"
   ]
  },
  {
   "cell_type": "code",
   "execution_count": 6,
   "metadata": {
    "ExecuteTime": {
     "end_time": "2018-04-09T13:17:10.245516Z",
     "start_time": "2018-04-09T13:17:10.238572Z"
    }
   },
   "outputs": [],
   "source": [
    "PATH_TO_EXCEL = \"../data/......\"\n",
    "\n",
    "# Read excel file with header = row number 1\n",
    "#df = pd.read_excel(PATH_TO_EXCEL, header=0)"
   ]
  },
  {
   "cell_type": "markdown",
   "metadata": {},
   "source": [
    "# pre-process source and target"
   ]
  },
  {
   "cell_type": "code",
   "execution_count": 10,
   "metadata": {
    "ExecuteTime": {
     "end_time": "2018-04-09T13:28:26.003045Z",
     "start_time": "2018-04-09T13:28:25.999557Z"
    }
   },
   "outputs": [],
   "source": [
    "# Potential pre-processing steps\n",
    "# (1) Stemming\n",
    "# (2) Lemmatization\n",
    "# (3) Lowercase\n",
    "# (4) Delete Organizational entities from accounts\n",
    "# (5) Delete numbers\n",
    "# (6) Harmonize words\n",
    "# (7) ..."
   ]
  },
  {
   "cell_type": "code",
   "execution_count": 11,
   "metadata": {
    "ExecuteTime": {
     "end_time": "2018-04-09T13:28:29.121397Z",
     "start_time": "2018-04-09T13:28:28.856511Z"
    }
   },
   "outputs": [],
   "source": [
    "import spacy"
   ]
  },
  {
   "cell_type": "code",
   "execution_count": 101,
   "metadata": {
    "ExecuteTime": {
     "end_time": "2018-04-09T13:50:42.792744Z",
     "start_time": "2018-04-09T13:50:42.754117Z"
    }
   },
   "outputs": [],
   "source": [
    "class PreProcessor(object):\n",
    "    \"\"\" Pre-processes a given text string using NLTK and spacy library\n",
    "    \n",
    "    \"\"\"\n",
    "    \n",
    "    def __init__(self, text, language=\"english\"):\n",
    "        \"\"\" Loading text and spacy model\n",
    "        \n",
    "        :param text: A raw string of words or sentences or corpus\n",
    "        :param language: Default 'english'. Can be switched to 'german'\n",
    "        \"\"\"\n",
    "        \n",
    "        self.text = text\n",
    "        self.language = language\n",
    "        \n",
    "        if not ((self.language is \"english\") or (self.language is \"german\")):\n",
    "            raise Exception(\"Please provide valid language parameter\")\n",
    "            return None\n",
    "            \n",
    "    def _text2spacyToken(self, text):\n",
    "        if self.language is \"english\":\n",
    "            nlp = spacy.load(\"en\")\n",
    "        elif self.language is \"german\":\n",
    "            nlp = spacy.load(\"de\")\n",
    "            \n",
    "        doc = nlp(text)\n",
    "        \n",
    "        return doc.text\n",
    "        \n",
    "    def stemming(self, stemmer=\"SnowballStemmer\"):\n",
    "        \n",
    "        stemmedText = _text2spacyToken(self.text)\n",
    "        return stemmedText        \n",
    "            \n",
    "    def test(self):\n",
    "        pass\n",
    "    "
   ]
  },
  {
   "cell_type": "code",
   "execution_count": 102,
   "metadata": {
    "ExecuteTime": {
     "end_time": "2018-04-09T13:50:43.069788Z",
     "start_time": "2018-04-09T13:50:42.917513Z"
    }
   },
   "outputs": [],
   "source": [
    "processed = PreProcessor(\"Hello world\", language=\"german\")"
   ]
  },
  {
   "cell_type": "code",
   "execution_count": 103,
   "metadata": {
    "ExecuteTime": {
     "end_time": "2018-04-09T13:50:43.122399Z",
     "start_time": "2018-04-09T13:50:43.072062Z"
    }
   },
   "outputs": [],
   "source": [
    "txt = processed.stemming"
   ]
  },
  {
   "cell_type": "code",
   "execution_count": 104,
   "metadata": {
    "ExecuteTime": {
     "end_time": "2018-04-09T13:50:45.909920Z",
     "start_time": "2018-04-09T13:50:45.900338Z"
    }
   },
   "outputs": [
    {
     "data": {
      "text/plain": [
       "<bound method PreProcessor.stemming of <__main__.PreProcessor object at 0x7f3a8e0da160>>"
      ]
     },
     "execution_count": 104,
     "metadata": {},
     "output_type": "execute_result"
    }
   ],
   "source": [
    "txt"
   ]
  },
  {
   "cell_type": "markdown",
   "metadata": {},
   "source": [
    "# Recommender systems"
   ]
  },
  {
   "cell_type": "markdown",
   "metadata": {},
   "source": [
    "## n-gram (char level) recommender (Jaccard)"
   ]
  },
  {
   "cell_type": "code",
   "execution_count": null,
   "metadata": {},
   "outputs": [],
   "source": []
  },
  {
   "cell_type": "markdown",
   "metadata": {},
   "source": [
    "## n-gram (word level) recommender (Jaccard)"
   ]
  },
  {
   "cell_type": "code",
   "execution_count": null,
   "metadata": {},
   "outputs": [],
   "source": []
  },
  {
   "cell_type": "markdown",
   "metadata": {},
   "source": [
    "## TF matching"
   ]
  },
  {
   "cell_type": "code",
   "execution_count": null,
   "metadata": {},
   "outputs": [],
   "source": []
  },
  {
   "cell_type": "markdown",
   "metadata": {},
   "source": [
    "## TF-IDF matching"
   ]
  },
  {
   "cell_type": "code",
   "execution_count": null,
   "metadata": {},
   "outputs": [],
   "source": []
  },
  {
   "cell_type": "markdown",
   "metadata": {},
   "source": [
    "## Levenshtein distance"
   ]
  },
  {
   "cell_type": "code",
   "execution_count": null,
   "metadata": {},
   "outputs": [],
   "source": []
  },
  {
   "cell_type": "markdown",
   "metadata": {},
   "source": [
    "## LSA factorization"
   ]
  },
  {
   "cell_type": "code",
   "execution_count": null,
   "metadata": {},
   "outputs": [],
   "source": []
  },
  {
   "cell_type": "markdown",
   "metadata": {},
   "source": [
    "## SVM"
   ]
  },
  {
   "cell_type": "code",
   "execution_count": null,
   "metadata": {},
   "outputs": [],
   "source": []
  },
  {
   "cell_type": "markdown",
   "metadata": {},
   "source": [
    "## word2vec"
   ]
  },
  {
   "cell_type": "code",
   "execution_count": null,
   "metadata": {},
   "outputs": [],
   "source": []
  }
 ],
 "metadata": {
  "kernelspec": {
   "display_name": "Python 3",
   "language": "python",
   "name": "python3"
  },
  "language_info": {
   "codemirror_mode": {
    "name": "ipython",
    "version": 3
   },
   "file_extension": ".py",
   "mimetype": "text/x-python",
   "name": "python",
   "nbconvert_exporter": "python",
   "pygments_lexer": "ipython3",
   "version": "3.6.4"
  },
  "toc": {
   "nav_menu": {},
   "number_sections": true,
   "sideBar": true,
   "skip_h1_title": false,
   "title_cell": "Table of Contents",
   "title_sidebar": "Contents",
   "toc_cell": false,
   "toc_position": {},
   "toc_section_display": true,
   "toc_window_display": false
  }
 },
 "nbformat": 4,
 "nbformat_minor": 2
}
