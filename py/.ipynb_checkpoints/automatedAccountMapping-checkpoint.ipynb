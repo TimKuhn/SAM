{
 "cells": [
  {
   "cell_type": "markdown",
   "metadata": {
    "deletable": true,
    "editable": true
   },
   "source": [
    "# Load file"
   ]
  },
  {
   "cell_type": "code",
   "execution_count": 98,
   "metadata": {
    "ExecuteTime": {
     "end_time": "2018-04-09T13:16:11.993697Z",
     "start_time": "2018-04-09T13:16:11.986601Z"
    },
    "collapsed": true,
    "deletable": true,
    "editable": true
   },
   "outputs": [],
   "source": [
    "# Load excel file that contains two columns \n",
    "\n",
    "#-----------------------------------------------------------\n",
    "# Source Col            ;           Target Col\n",
    "# 'Utilities'           ;   'Other manufacturing equipment'\n",
    "# 'Other stuff'         ;   'Other manufacturing equipment'\n",
    "#-----------------------------------------------------------"
   ]
  },
  {
   "cell_type": "code",
   "execution_count": 99,
   "metadata": {
    "collapsed": true
   },
   "outputs": [],
   "source": [
    "from IPython.display import Image"
   ]
  },
  {
   "cell_type": "code",
   "execution_count": 3,
   "metadata": {
    "ExecuteTime": {
     "end_time": "2018-04-09T13:16:15.441878Z",
     "start_time": "2018-04-09T13:16:15.163532Z"
    },
    "collapsed": true,
    "deletable": true,
    "editable": true
   },
   "outputs": [],
   "source": [
    "import pandas as pd"
   ]
  },
  {
   "cell_type": "code",
   "execution_count": 4,
   "metadata": {
    "ExecuteTime": {
     "end_time": "2018-04-09T13:17:10.245516Z",
     "start_time": "2018-04-09T13:17:10.238572Z"
    },
    "collapsed": true,
    "deletable": true,
    "editable": true
   },
   "outputs": [],
   "source": [
    "PATH_TO_EXCEL = \"../data/......\"\n",
    "\n",
    "# Read excel file with header = row number 1\n",
    "#df = pd.read_excel(PATH_TO_EXCEL, header=0)"
   ]
  },
  {
   "cell_type": "markdown",
   "metadata": {
    "deletable": true,
    "editable": true
   },
   "source": [
    "# pre-process source and target"
   ]
  },
  {
   "cell_type": "code",
   "execution_count": 5,
   "metadata": {
    "ExecuteTime": {
     "end_time": "2018-04-09T13:28:26.003045Z",
     "start_time": "2018-04-09T13:28:25.999557Z"
    },
    "collapsed": true,
    "deletable": true,
    "editable": true
   },
   "outputs": [],
   "source": [
    "# Potential pre-processing steps\n",
    "# (1) Stemming\n",
    "# (2) Lemmatization\n",
    "# (3) Lowercase\n",
    "# (4) Delete Organizational entities from accounts\n",
    "# (5) Delete numbers\n",
    "# (6) Harmonize words\n",
    "# (7) ..."
   ]
  },
  {
   "cell_type": "code",
   "execution_count": 6,
   "metadata": {
    "ExecuteTime": {
     "end_time": "2018-04-09T13:28:29.121397Z",
     "start_time": "2018-04-09T13:28:28.856511Z"
    },
    "collapsed": true,
    "deletable": true,
    "editable": true
   },
   "outputs": [],
   "source": [
    "import spacy"
   ]
  },
  {
   "cell_type": "code",
   "execution_count": 7,
   "metadata": {
    "ExecuteTime": {
     "end_time": "2018-04-09T13:50:42.792744Z",
     "start_time": "2018-04-09T13:50:42.754117Z"
    },
    "collapsed": true,
    "deletable": true,
    "editable": true
   },
   "outputs": [],
   "source": [
    "class PreProcessor(object):\n",
    "    \"\"\" Pre-processes a given text string using NLTK and spacy library\n",
    "    \n",
    "    \"\"\"\n",
    "    \n",
    "    def __init__(self, text, language=\"english\"):\n",
    "        \"\"\" Loading text and spacy model\n",
    "        \n",
    "        :param text: A raw string of words or sentences or corpus\n",
    "        :param language: Default 'english'. Can be switched to 'german'\n",
    "        \"\"\"\n",
    "        \n",
    "        self.text = text\n",
    "        self.language = language\n",
    "        \n",
    "        if not ((self.language is \"english\") or (self.language is \"german\")):\n",
    "            raise Exception(\"Please provide valid language parameter\")\n",
    "            return None\n",
    "            \n",
    "    def _text2spacyToken(self, text):\n",
    "        if self.language is \"english\":\n",
    "            nlp = spacy.load(\"en\")\n",
    "        elif self.language is \"german\":\n",
    "            nlp = spacy.load(\"de\")\n",
    "            \n",
    "        doc = nlp(text)\n",
    "        \n",
    "        return doc.text\n",
    "        \n",
    "    def stemming(self, stemmer=\"SnowballStemmer\"):\n",
    "        \n",
    "        stemmedText = _text2spacyToken(self.text)\n",
    "        return stemmedText        \n",
    "            \n",
    "    def test(self):\n",
    "        pass\n",
    "    "
   ]
  },
  {
   "cell_type": "code",
   "execution_count": 8,
   "metadata": {
    "ExecuteTime": {
     "end_time": "2018-04-09T13:50:43.069788Z",
     "start_time": "2018-04-09T13:50:42.917513Z"
    },
    "collapsed": true,
    "deletable": true,
    "editable": true
   },
   "outputs": [],
   "source": [
    "processed = PreProcessor(\"Hello world\", language=\"german\")"
   ]
  },
  {
   "cell_type": "code",
   "execution_count": 9,
   "metadata": {
    "ExecuteTime": {
     "end_time": "2018-04-09T13:50:43.122399Z",
     "start_time": "2018-04-09T13:50:43.072062Z"
    },
    "collapsed": true,
    "deletable": true,
    "editable": true
   },
   "outputs": [],
   "source": [
    "txt = processed.stemming"
   ]
  },
  {
   "cell_type": "code",
   "execution_count": 10,
   "metadata": {
    "ExecuteTime": {
     "end_time": "2018-04-09T13:50:45.909920Z",
     "start_time": "2018-04-09T13:50:45.900338Z"
    },
    "collapsed": false,
    "deletable": true,
    "editable": true
   },
   "outputs": [
    {
     "data": {
      "text/plain": [
       "<bound method PreProcessor.stemming of <__main__.PreProcessor object at 0x111b704a8>>"
      ]
     },
     "execution_count": 10,
     "metadata": {},
     "output_type": "execute_result"
    }
   ],
   "source": [
    "txt"
   ]
  },
  {
   "cell_type": "code",
   "execution_count": 263,
   "metadata": {
    "collapsed": true
   },
   "outputs": [],
   "source": [
    "import pandas as pd\n",
    "import spacy\n",
    "from nltk.stem import PorterStemmer"
   ]
  },
  {
   "cell_type": "code",
   "execution_count": 264,
   "metadata": {
    "collapsed": true
   },
   "outputs": [],
   "source": [
    "nlp = spacy.load(\"en\")\n",
    "stemmer = PorterStemmer()"
   ]
  },
  {
   "cell_type": "code",
   "execution_count": 35,
   "metadata": {
    "collapsed": false
   },
   "outputs": [
    {
     "data": {
      "text/html": [
       "<div>\n",
       "<table border=\"1\" class=\"dataframe\">\n",
       "  <thead>\n",
       "    <tr style=\"text-align: right;\">\n",
       "      <th></th>\n",
       "      <th>PRC (Source)</th>\n",
       "      <th>IFRS (Target)</th>\n",
       "      <th>Unnamed: 2</th>\n",
       "      <th>Unnamed: 3</th>\n",
       "    </tr>\n",
       "  </thead>\n",
       "  <tbody>\n",
       "    <tr>\n",
       "      <th>0</th>\n",
       "      <td>Level1</td>\n",
       "      <td>Level1</td>\n",
       "      <td>Level2</td>\n",
       "      <td>Level3</td>\n",
       "    </tr>\n",
       "    <tr>\n",
       "      <th>1</th>\n",
       "      <td>Current assets:</td>\n",
       "      <td>Intangible assets</td>\n",
       "      <td>Industrial rights and similiar rights</td>\n",
       "      <td>NaN</td>\n",
       "    </tr>\n",
       "    <tr>\n",
       "      <th>2</th>\n",
       "      <td>Currency funds</td>\n",
       "      <td>Intangible assets</td>\n",
       "      <td>Trademarks</td>\n",
       "      <td>NaN</td>\n",
       "    </tr>\n",
       "    <tr>\n",
       "      <th>3</th>\n",
       "      <td>Financial assets measured at fair value throu...</td>\n",
       "      <td>Intangible assets</td>\n",
       "      <td>Patents</td>\n",
       "      <td>NaN</td>\n",
       "    </tr>\n",
       "    <tr>\n",
       "      <th>4</th>\n",
       "      <td>Derivative financial assets</td>\n",
       "      <td>Intangible assets</td>\n",
       "      <td>Goodwill</td>\n",
       "      <td>NaN</td>\n",
       "    </tr>\n",
       "  </tbody>\n",
       "</table>\n",
       "</div>"
      ],
      "text/plain": [
       "                                        PRC (Source)      IFRS (Target)  \\\n",
       "0                                             Level1             Level1   \n",
       "1                                    Current assets:  Intangible assets   \n",
       "2                                     Currency funds  Intangible assets   \n",
       "3   Financial assets measured at fair value throu...  Intangible assets   \n",
       "4                        Derivative financial assets  Intangible assets   \n",
       "\n",
       "                              Unnamed: 2 Unnamed: 3  \n",
       "0                                 Level2     Level3  \n",
       "1  Industrial rights and similiar rights        NaN  \n",
       "2                             Trademarks        NaN  \n",
       "3                                Patents        NaN  \n",
       "4                               Goodwill        NaN  "
      ]
     },
     "execution_count": 35,
     "metadata": {},
     "output_type": "execute_result"
    }
   ],
   "source": [
    "df = pd.read_excel(\"../data/coa_target_src.xlsx\")\n",
    "df.head()"
   ]
  },
  {
   "cell_type": "code",
   "execution_count": 67,
   "metadata": {
    "collapsed": false
   },
   "outputs": [],
   "source": [
    "import re\n",
    "\n",
    "def cleanText(text):\n",
    "    text = str(text)\n",
    "    text = text.rstrip().lstrip()\n",
    "    text = re.sub(\"\\n\", \"\", text)\n",
    "    text = re.sub(\"\\s+\", \" \", text)\n",
    "    text = re.sub(\"\\/\", \" \", text)\n",
    "    text = re.sub(\"[^A-Za-zäöüÄÖÜß\\s]\", \"\", text)\n",
    "    return text"
   ]
  },
  {
   "cell_type": "code",
   "execution_count": 68,
   "metadata": {
    "collapsed": false
   },
   "outputs": [],
   "source": [
    "sourceDf = [cleanText(row) for row in df.iloc[1:,0]]"
   ]
  },
  {
   "cell_type": "code",
   "execution_count": 256,
   "metadata": {
    "collapsed": true
   },
   "outputs": [],
   "source": [
    "targetDF = list(set([cleanText(row) for row in df.iloc[1:,2]]))"
   ]
  },
  {
   "cell_type": "markdown",
   "metadata": {},
   "source": [
    "## Preprocess text"
   ]
  },
  {
   "cell_type": "code",
   "execution_count": 274,
   "metadata": {
    "collapsed": true
   },
   "outputs": [],
   "source": [
    "def preprocess(text, lower=True, lemma=False, stemming=False):\n",
    "    \"\"\"\n",
    "    \n",
    "    \"\"\"\n",
    "    if lemma:\n",
    "        doc = nlp(text)\n",
    "        text = \" \".join([token.lemma_ for token in doc])\n",
    "        \n",
    "    if stemming:\n",
    "        text = stemmer.stem(text)\n",
    "        \n",
    "    if lower:\n",
    "        text = text.lower()\n",
    "    \n",
    "    return text"
   ]
  },
  {
   "cell_type": "code",
   "execution_count": 277,
   "metadata": {
    "collapsed": false
   },
   "outputs": [
    {
     "data": {
      "text/plain": [
       "'this be a account receivable relate topic that -pron- want to solv'"
      ]
     },
     "execution_count": 277,
     "metadata": {},
     "output_type": "execute_result"
    }
   ],
   "source": [
    "preprocess(\"This is an accounting receivables related topic that I want to solve\",\n",
    "           lemma=True,\n",
    "          stemming=True)"
   ]
  },
  {
   "cell_type": "markdown",
   "metadata": {
    "deletable": true,
    "editable": true
   },
   "source": [
    "# Recommender systems"
   ]
  },
  {
   "cell_type": "markdown",
   "metadata": {
    "deletable": true,
    "editable": true
   },
   "source": [
    "## n-gram (char level) recommender (Jaccard)"
   ]
  },
  {
   "cell_type": "code",
   "execution_count": 73,
   "metadata": {
    "collapsed": true
   },
   "outputs": [],
   "source": [
    "from nltk import ngrams"
   ]
  },
  {
   "cell_type": "code",
   "execution_count": 85,
   "metadata": {
    "collapsed": true,
    "deletable": true,
    "editable": true
   },
   "outputs": [],
   "source": [
    "def nGramCharTransformer(token, n=2, padRight = False, padLeft = False):\n",
    "    \"\"\" \n",
    "    \n",
    "    :token: String containing text\n",
    "    :n: Parameter that specifies the number of nGrams\n",
    "    \n",
    "    :returns: Returns a list of nGrams\n",
    "    \"\"\"\n",
    "    \n",
    "    return list(ngrams(token, n, pad_right=padRight, pad_left=padLeft))\n",
    "    "
   ]
  },
  {
   "cell_type": "code",
   "execution_count": 88,
   "metadata": {
    "collapsed": false
   },
   "outputs": [
    {
     "name": "stdout",
     "output_type": "stream",
     "text": [
      "0 Trade payables to affiliated related companies\n",
      "1 Trade receivables from third parties\n",
      "2 Land and land rights\n",
      "3 Income tax assets\n",
      "4 Other short term deposits\n",
      "5 Other financial liabilities  employees\n",
      "6 VAT domestic\n",
      "7 Advanced payments\n",
      "8 Financial liabilities to shareholders\n",
      "9 Goodwill\n",
      "10 Restricted cash excluded from cash and cash equivalents\n",
      "11 Prepayments to suppliers\n",
      "12 Restricted cash included inc ash can cash equivalents\n",
      "13 Capital reserve\n",
      "14 Technical equipment and machinery\n",
      "15 Other financial liabilities to affiliated related companies\n",
      "16 Tooling\n",
      "17 Provisions for taxes\n",
      "18 Other liabilities to affiliated related companies\n",
      "19 Buildings and factories\n",
      "20 Trademarks\n",
      "21 Capitalized development costs\n",
      "22 Shortterm securities\n",
      "23 Work in progress\n",
      "24 Deferred income\n",
      "25 Cash in hand\n",
      "26 Other equipment and office equipment\n",
      "27 Vehicles\n",
      "28 Financial receivables from affiliated companies\n",
      "29 Trade receivables  gross\n",
      "30 Raw materials and manufacturing supplies\n",
      "31 Deferred tax assets\n",
      "32 Other provisions\n",
      "33 Construction in progress\n",
      "34 Financial liabilities  Banks\n",
      "35 Trade receivables  write down\n",
      "36 Other financial liabilities  outstanding invoices\n",
      "37 Trade payables\n",
      "38 Trade receivables from affiliated related\n",
      "39 Receivables for other tax than icome tax\n",
      "40 VAT foreign countries\n",
      "41 Cash at banks\n",
      "42 Advance payments relating to property plant and equipment\n",
      "43 Other reserves\n",
      "44 Other liabilities\n",
      "45 Warranty provisions\n",
      "46 Retained earnings\n",
      "47 Allowance on other assets\n",
      "48 Other noncurrent financial instruments\n",
      "49 Longterm investments\n",
      "50 Finished goods parts and products held for resale\n",
      "51 Advance payments relating to intangible assets\n",
      "52 Other assets\n",
      "53 Receivables from affiliated related companies\n",
      "54 Financial receivables from third parties and related companies\n",
      "55 Receivables from Governments\n",
      "56 Subscriped capital\n",
      "57 Deferred tax liabilities\n",
      "58 Patents\n",
      "59 Advance payments relating to property plant and equipment from affiliated related companies\n",
      "60 Deferred expenses and accrued income\n",
      "61 Other financial liabilities  interest\n",
      "62 Shares in other participations\n",
      "63 Other financial assets\n",
      "64 Deferred income and accrued expenses\n",
      "65 Shares in affiliated companies\n",
      "66 Receivables for other tax than income tax\n",
      "67 Shares in associated companies\n",
      "68 Financial liabilities to affiliated related companies\n",
      "69 Industrial rights and similiar rights\n"
     ]
    }
   ],
   "source": [
    "for i, tar in enumerate(targetDF):\n",
    "    print(i, tar)"
   ]
  },
  {
   "cell_type": "code",
   "execution_count": 136,
   "metadata": {
    "collapsed": false
   },
   "outputs": [
    {
     "data": {
      "text/plain": [
       "'Current assets'"
      ]
     },
     "execution_count": 136,
     "metadata": {},
     "output_type": "execute_result"
    }
   ],
   "source": [
    "sourceDf[0]"
   ]
  },
  {
   "cell_type": "code",
   "execution_count": 137,
   "metadata": {
    "collapsed": false
   },
   "outputs": [
    {
     "data": {
      "text/plain": [
       "'Other assets'"
      ]
     },
     "execution_count": 137,
     "metadata": {},
     "output_type": "execute_result"
    }
   ],
   "source": [
    "targetDF[52]"
   ]
  },
  {
   "cell_type": "code",
   "execution_count": 138,
   "metadata": {
    "collapsed": false
   },
   "outputs": [
    {
     "name": "stdout",
     "output_type": "stream",
     "text": [
      "[('C', 'u'), ('u', 'r'), ('r', 'r'), ('r', 'e'), ('e', 'n'), ('n', 't'), ('t', ' '), (' ', 'a'), ('a', 's'), ('s', 's'), ('s', 'e'), ('e', 't'), ('t', 's')]\n"
     ]
    }
   ],
   "source": [
    "src1 = nGramCharTransformer(sourceDf[0])\n",
    "print(src1)"
   ]
  },
  {
   "cell_type": "code",
   "execution_count": 139,
   "metadata": {
    "collapsed": false
   },
   "outputs": [
    {
     "name": "stdout",
     "output_type": "stream",
     "text": [
      "[('O', 't'), ('t', 'h'), ('h', 'e'), ('e', 'r'), ('r', ' '), (' ', 'a'), ('a', 's'), ('s', 's'), ('s', 'e'), ('e', 't'), ('t', 's')]\n"
     ]
    }
   ],
   "source": [
    "tar1 = nGramCharTransformer(targetDF[52])\n",
    "print(tar1)"
   ]
  },
  {
   "cell_type": "code",
   "execution_count": 140,
   "metadata": {
    "collapsed": false
   },
   "outputs": [
    {
     "data": {
      "text/html": [
       "<img src=\"https://wikimedia.org/api/rest_v1/media/math/render/svg/eaef5aa86949f49e7dc6b9c8c3dd8b233332c9e7\" width=\"300\" height=\"300\"/>"
      ],
      "text/plain": [
       "<IPython.core.display.Image object>"
      ]
     },
     "execution_count": 140,
     "metadata": {},
     "output_type": "execute_result"
    }
   ],
   "source": [
    "Image(url= \"https://wikimedia.org/api/rest_v1/media/math/render/svg/eaef5aa86949f49e7dc6b9c8c3dd8b233332c9e7\", width=300, height=300)"
   ]
  },
  {
   "cell_type": "code",
   "execution_count": 165,
   "metadata": {
    "collapsed": false
   },
   "outputs": [],
   "source": [
    "def jaccardCoefficient(A, B):\n",
    "    \"\"\" Defined as the size of the intersection \n",
    "    divided by the size of the union of the sample sets\n",
    "    \n",
    "    :param A: 1st List of items\n",
    "    :param B: 2nd List of items\n",
    "    \n",
    "    :returns: Returns floating point similarity score \n",
    "    \"\"\"\n",
    "    \n",
    "    A = set(A)\n",
    "    B = set(B)\n",
    "    \n",
    "    intersection = len(A.intersection(B))\n",
    "    union = len(A.union(B))\n",
    "    \n",
    "    if union > 0:\n",
    "        return intersection / union\n",
    "    else:\n",
    "        return 0"
   ]
  },
  {
   "cell_type": "code",
   "execution_count": 166,
   "metadata": {
    "collapsed": false
   },
   "outputs": [
    {
     "data": {
      "text/html": [
       "<img src=\"https://wikimedia.org/api/rest_v1/media/math/render/svg/593c9e7d96dc41cc82abdb13d3efb9b3b4d6cb51\" width=\"300\" height=\"300\"/>"
      ],
      "text/plain": [
       "<IPython.core.display.Image object>"
      ]
     },
     "execution_count": 166,
     "metadata": {},
     "output_type": "execute_result"
    }
   ],
   "source": [
    "Image(url=\"https://wikimedia.org/api/rest_v1/media/math/render/svg/593c9e7d96dc41cc82abdb13d3efb9b3b4d6cb51\", width=300, height=300)"
   ]
  },
  {
   "cell_type": "code",
   "execution_count": 198,
   "metadata": {
    "collapsed": false
   },
   "outputs": [],
   "source": [
    "def tverskyIndex(A, B, alpha=0.5, beta=0.5):\n",
    "    \"\"\" Asymmetric similarity measure on sets \n",
    "    that compares a variant to a prototype.\n",
    "    For sets A and B the Tversky index is a number between 0 and 1.\n",
    "    \n",
    "    :param A: 1st List of items\n",
    "    :param B: 2nd List of items\n",
    "    :param alpha: Setting alpha=beta=1 produces the Tanimoto coefficient\n",
    "    :param beta: Setting alpha=beta=0.5 produces Dice's coefficient.\n",
    "    \n",
    "    :returns: Returns floating point similarity score \n",
    "    \"\"\"\n",
    "    \n",
    "    A = set(A)\n",
    "    B = set(B)\n",
    "    \n",
    "    intersection = len(A.intersection(B))\n",
    "    \n",
    "    tverskyIndex = intersection / (intersection + (alpha * len(A-B)) + (beta * len(B-A)))\n",
    "    \n",
    "    return tverskyIndex"
   ]
  },
  {
   "cell_type": "code",
   "execution_count": 245,
   "metadata": {
    "collapsed": false
   },
   "outputs": [],
   "source": [
    "def getTOPLresults(scores, n=5):\n",
    "    return sorted(scores, key=lambda scores: scores[1], reverse=True)[:n]"
   ]
  },
  {
   "cell_type": "code",
   "execution_count": 215,
   "metadata": {
    "collapsed": true
   },
   "outputs": [],
   "source": [
    "from collections import defaultdict"
   ]
  },
  {
   "cell_type": "code",
   "execution_count": 254,
   "metadata": {
    "collapsed": false
   },
   "outputs": [],
   "source": [
    "bigram = defaultdict(list)\n",
    "N=3\n",
    "\n",
    "for source in sourceDf:\n",
    "    sourceNgram = nGramCharTransformer(source, n=N)\n",
    "    scores = []\n",
    "    for target in targetDF:\n",
    "        targetNgram = nGramCharTransformer(target, n=N)\n",
    "        score = jaccardCoefficient(sourceNgram, targetNgram)\n",
    "        scores.append((target, score))\n",
    "            \n",
    "    TOPL = getTOPLresults(scores) \n",
    "    \n",
    "    bigram[source].append(TOPL)"
   ]
  },
  {
   "cell_type": "code",
   "execution_count": 255,
   "metadata": {
    "collapsed": false
   },
   "outputs": [
    {
     "name": "stdout",
     "output_type": "stream",
     "text": [
      "==================================================\n",
      "Current assets\n",
      "\n",
      "('Other assets', 0.29411764705882354)\n",
      "('Deferred tax assets', 0.2608695652173913)\n",
      "('Income tax assets', 0.22727272727272727)\n",
      "('Other financial assets', 0.18518518518518517)\n",
      "('Allowance on other assets', 0.16666666666666666)\n",
      "==================================================\n",
      "Currency funds\n",
      "\n",
      "('Other noncurrent financial instruments', 0.06818181818181818)\n",
      "('Deferred income', 0.041666666666666664)\n",
      "('Deferred tax assets', 0.03571428571428571)\n",
      "('Deferred tax liabilities', 0.030303030303030304)\n",
      "('Deferred expenses and accrued income', 0.022727272727272728)\n",
      "==================================================\n",
      "Financial assets measured at fair value through profit or loss for the current period\n",
      "\n",
      "('Other financial assets', 0.16091954022988506)\n",
      "('Other noncurrent financial instruments', 0.1485148514851485)\n",
      "('Deferred tax assets', 0.08888888888888889)\n",
      "('Financial receivables from third parties and related companies', 0.08661417322834646)\n",
      "('Financial receivables from affiliated companies', 0.08620689655172414)\n",
      "==================================================\n",
      "Derivative financial assets\n",
      "\n",
      "('Other financial assets', 0.5)\n",
      "('Other noncurrent financial instruments', 0.17647058823529413)\n",
      "('Other financial liabilities  interest', 0.17647058823529413)\n",
      "('Other financial liabilities  employees', 0.17307692307692307)\n",
      "('Other assets', 0.16666666666666666)\n",
      "==================================================\n",
      "Notes receivable\n",
      "\n",
      "('Trade receivables  gross', 0.38461538461538464)\n",
      "('Trade receivables  write down', 0.3225806451612903)\n",
      "('Trade receivables from third parties', 0.2631578947368421)\n",
      "('Trade receivables from affiliated related', 0.25)\n",
      "('Receivables from Governments', 0.25)\n",
      "==================================================\n",
      "Accounts receivable\n",
      "\n",
      "('Trade receivables  gross', 0.3)\n",
      "('Trade receivables  write down', 0.2571428571428571)\n",
      "('Receivables from Governments', 0.22857142857142856)\n",
      "('Trade receivables from third parties', 0.21428571428571427)\n",
      "('Trade receivables from affiliated related', 0.20454545454545456)\n",
      "==================================================\n",
      "Prepayments\n",
      "\n",
      "('Prepayments to suppliers', 0.4090909090909091)\n",
      "('Advanced payments', 0.3333333333333333)\n",
      "('Patents', 0.16666666666666666)\n",
      "('Advance payments relating to intangible assets', 0.1276595744680851)\n",
      "('Longterm investments', 0.125)\n",
      "==================================================\n",
      "Interest receivable\n",
      "\n",
      "('Trade receivables  gross', 0.3)\n",
      "('Trade receivables  write down', 0.2571428571428571)\n",
      "('Trade receivables from third parties', 0.21428571428571427)\n",
      "('Trade receivables from affiliated related', 0.20454545454545456)\n",
      "('Receivables from Governments', 0.19444444444444445)\n",
      "==================================================\n",
      "Dividends receivable\n",
      "\n",
      "('Trade receivables  gross', 0.2903225806451613)\n",
      "('Trade receivables  write down', 0.25)\n",
      "('Trade receivables from third parties', 0.20930232558139536)\n",
      "('Trade receivables from affiliated related', 0.2)\n",
      "('Receivables from Governments', 0.1891891891891892)\n",
      "==================================================\n",
      "Other receivables\n",
      "\n",
      "('Trade receivables  gross', 0.37037037037037035)\n",
      "('Trade receivables  write down', 0.3125)\n",
      "('Other reserves', 0.2857142857142857)\n",
      "('Receivables for other tax than icome tax', 0.275)\n",
      "('Receivables for other tax than income tax', 0.2682926829268293)\n",
      "==================================================\n",
      "Inventories\n",
      "\n",
      "('Buildings and factories', 0.15384615384615385)\n",
      "('Longterm investments', 0.08)\n",
      "('VAT foreign countries', 0.07692307692307693)\n",
      "('Patents', 0.07692307692307693)\n",
      "('Advanced payments', 0.043478260869565216)\n",
      "==================================================\n",
      "Assets classified as held for sale\n",
      "\n",
      "('Finished goods parts and products held for resale', 0.2)\n",
      "('Deferred tax assets', 0.13953488372093023)\n",
      "('Other assets', 0.13513513513513514)\n",
      "('Income tax assets', 0.11904761904761904)\n",
      "('Other financial assets', 0.10638297872340426)\n",
      "==================================================\n",
      "Noncurrent assets due within one year\n",
      "\n",
      "('Allowance on other assets', 0.13725490196078433)\n",
      "('Deferred tax assets', 0.13043478260869565)\n",
      "('Other noncurrent financial instruments', 0.12903225806451613)\n",
      "('Other assets', 0.125)\n",
      "('Income tax assets', 0.1111111111111111)\n",
      "==================================================\n",
      "Other current assets\n",
      "\n",
      "('Other assets', 0.47368421052631576)\n",
      "('Other financial assets', 0.3103448275862069)\n",
      "('Allowance on other assets', 0.24242424242424243)\n",
      "('Other noncurrent financial instruments', 0.23255813953488372)\n",
      "('Deferred tax assets', 0.20689655172413793)\n",
      "==================================================\n",
      "Total current assets\n",
      "\n",
      "('Other assets', 0.21739130434782608)\n",
      "('Deferred tax assets', 0.20689655172413793)\n",
      "('Other financial assets', 0.1875)\n",
      "('Income tax assets', 0.17857142857142858)\n",
      "('Other noncurrent financial instruments', 0.15217391304347827)\n",
      "==================================================\n",
      "Noncurrent assets\n",
      "\n",
      "('Other assets', 0.25)\n",
      "('Deferred tax assets', 0.23076923076923078)\n",
      "('Income tax assets', 0.2)\n",
      "('Other noncurrent financial instruments', 0.19047619047619047)\n",
      "('Other financial assets', 0.16666666666666666)\n",
      "==================================================\n",
      "Availableforsale financial assets\n",
      "\n",
      "('Other financial assets', 0.4166666666666667)\n",
      "('Other noncurrent financial instruments', 0.15789473684210525)\n",
      "('Other financial liabilities  interest', 0.15789473684210525)\n",
      "('Other financial liabilities  employees', 0.15517241379310345)\n",
      "('Financial liabilities  Banks', 0.14)\n",
      "==================================================\n",
      "Heldtomaturity investments\n",
      "\n",
      "('Longterm investments', 0.3125)\n",
      "('Advanced payments', 0.08333333333333333)\n",
      "('Patents', 0.07407407407407407)\n",
      "('Other noncurrent financial instruments', 0.07272727272727272)\n",
      "('Prepayments to suppliers', 0.06976744186046512)\n",
      "==================================================\n",
      "Longterm receivables\n",
      "\n",
      "('Trade receivables  gross', 0.3333333333333333)\n",
      "('Trade receivables  write down', 0.2857142857142857)\n",
      "('Longterm investments', 0.2413793103448276)\n",
      "('Trade receivables from third parties', 0.23809523809523808)\n",
      "('Trade receivables from affiliated related', 0.22727272727272727)\n",
      "==================================================\n",
      "Net defined benefit plan assets\n",
      "\n",
      "('Deferred tax assets', 0.15384615384615385)\n",
      "('Other assets', 0.15151515151515152)\n",
      "('Other financial assets', 0.14285714285714285)\n",
      "('Income tax assets', 0.13157894736842105)\n",
      "('Allowance on other assets', 0.10869565217391304)\n",
      "==================================================\n",
      "Longterm equity investments\n",
      "\n",
      "('Longterm investments', 0.6538461538461539)\n",
      "('Restricted cash included inc ash can cash equivalents', 0.11864406779661017)\n",
      "('Other equipment and office equipment', 0.10869565217391304)\n",
      "('Advance payments relating to property plant and equipment', 0.09859154929577464)\n",
      "('Restricted cash excluded from cash and cash equivalents', 0.09836065573770492)\n",
      "==================================================\n",
      "Investment property\n",
      "\n",
      "('Longterm investments', 0.25)\n",
      "('Advance payments relating to property plant and equipment', 0.16666666666666666)\n",
      "('Advance payments relating to property plant and equipment from affiliated related companies', 0.11627906976744186)\n",
      "('Other equipment and office equipment', 0.075)\n",
      "('Capitalized development costs', 0.07317073170731707)\n",
      "==================================================\n",
      "Fixed assets\n",
      "\n",
      "('Other assets', 0.3333333333333333)\n",
      "('Deferred tax assets', 0.2857142857142857)\n",
      "('Income tax assets', 0.25)\n",
      "('Other financial assets', 0.2)\n",
      "('Allowance on other assets', 0.17857142857142858)\n",
      "==================================================\n",
      "Construction in progress\n",
      "\n",
      "('Construction in progress', 1.0)\n",
      "('Work in progress', 0.38461538461538464)\n",
      "('Shares in other participations', 0.13636363636363635)\n",
      "('Other provisions', 0.125)\n",
      "('Warranty provisions', 0.11428571428571428)\n",
      "==================================================\n",
      "Construction materials\n",
      "\n",
      "('Construction in progress', 0.3548387096774194)\n",
      "('Raw materials and manufacturing supplies', 0.16326530612244897)\n",
      "('Other noncurrent financial instruments', 0.0784313725490196)\n",
      "('Shares in other participations', 0.06666666666666667)\n",
      "('Industrial rights and similiar rights', 0.06382978723404255)\n",
      "==================================================\n",
      "Disposal of fixed assets\n",
      "\n",
      "('Other financial assets', 0.2)\n",
      "('Other assets', 0.18518518518518517)\n",
      "('Deferred tax assets', 0.18181818181818182)\n",
      "('Income tax assets', 0.15625)\n",
      "('Allowance on other assets', 0.125)\n",
      "==================================================\n",
      "Productive biological assets\n",
      "\n",
      "('Other financial assets', 0.1794871794871795)\n",
      "('Other assets', 0.16129032258064516)\n",
      "('Income tax assets', 0.1388888888888889)\n",
      "('Deferred tax assets', 0.13157894736842105)\n",
      "('Allowance on other assets', 0.11363636363636363)\n",
      "==================================================\n",
      "Oil and gas assets\n",
      "\n",
      "('Other assets', 0.23809523809523808)\n",
      "('Other financial assets', 0.2)\n",
      "('Income tax assets', 0.19230769230769232)\n",
      "('Deferred tax assets', 0.17857142857142858)\n",
      "('Allowance on other assets', 0.14705882352941177)\n",
      "==================================================\n",
      "Intangible assets\n",
      "\n",
      "('Advance payments relating to intangible assets', 0.3111111111111111)\n",
      "('Other assets', 0.25)\n",
      "('Income tax assets', 0.2)\n",
      "('Deferred tax assets', 0.18518518518518517)\n",
      "('Other financial assets', 0.16666666666666666)\n",
      "==================================================\n",
      "Development costs\n",
      "\n",
      "('Capitalized development costs', 0.5)\n",
      "('Other equipment and office equipment', 0.10810810810810811)\n",
      "('Technical equipment and machinery', 0.09523809523809523)\n",
      "('Advanced payments', 0.07142857142857142)\n",
      "('Longterm investments', 0.06451612903225806)\n",
      "==================================================\n",
      "Goodwill\n",
      "\n",
      "('Goodwill', 1.0)\n",
      "('Finished goods parts and products held for resale', 0.0196078431372549)\n",
      "('Trade payables to affiliated related companies', 0.0)\n",
      "('Trade receivables from third parties', 0.0)\n",
      "('Land and land rights', 0.0)\n",
      "==================================================\n",
      "Longterm deferred expenses\n",
      "\n",
      "('Deferred expenses and accrued income', 0.32558139534883723)\n",
      "('Deferred income and accrued expenses', 0.32558139534883723)\n",
      "('Longterm investments', 0.2)\n",
      "('Deferred income', 0.1935483870967742)\n",
      "('Deferred tax assets', 0.17142857142857143)\n",
      "==================================================\n",
      "Deferred tax assets\n",
      "\n",
      "('Deferred tax assets', 1.0)\n",
      "('Deferred tax liabilities', 0.39285714285714285)\n",
      "('Income tax assets', 0.391304347826087)\n",
      "('Deferred income', 0.30434782608695654)\n",
      "('Other assets', 0.22727272727272727)\n",
      "==================================================\n",
      "Other noncurrent assets\n",
      "\n",
      "('Other assets', 0.4090909090909091)\n",
      "('Other noncurrent financial instruments', 0.36585365853658536)\n",
      "('Other financial assets', 0.28125)\n",
      "('Allowance on other assets', 0.2222222222222222)\n",
      "('Deferred tax assets', 0.1875)\n",
      "==================================================\n",
      "Total noncurrent assets\n",
      "\n",
      "('Other noncurrent financial instruments', 0.24444444444444444)\n",
      "('Other assets', 0.19230769230769232)\n",
      "('Deferred tax assets', 0.1875)\n",
      "('Other financial assets', 0.17142857142857143)\n",
      "('Income tax assets', 0.16129032258064516)\n",
      "==================================================\n",
      "Total assets\n",
      "\n",
      "('Other assets', 0.3333333333333333)\n",
      "('Other financial assets', 0.30434782608695654)\n",
      "('Income tax assets', 0.25)\n",
      "('Deferred tax assets', 0.22727272727272727)\n",
      "('Allowance on other assets', 0.17857142857142858)\n",
      "==================================================\n",
      "Current liabilities\n",
      "\n",
      "('Other liabilities', 0.45454545454545453)\n",
      "('Deferred tax liabilities', 0.39285714285714285)\n",
      "('Financial liabilities  Banks', 0.30303030303030304)\n",
      "('Financial liabilities to shareholders', 0.23809523809523808)\n",
      "('Other financial liabilities  interest', 0.23809523809523808)\n",
      "==================================================\n",
      "Shortterm loans\n",
      "\n",
      "('Shortterm securities', 0.34782608695652173)\n",
      "('Other short term deposits', 0.16129032258064516)\n",
      "('Longterm investments', 0.10714285714285714)\n",
      "('Other financial liabilities  interest', 0.02127659574468085)\n",
      "('Raw materials and manufacturing supplies', 0.02040816326530612)\n",
      "==================================================\n",
      "Financial liabilities measured at fair value through profit or loss for the current period\n",
      "\n",
      "('Financial liabilities  Banks', 0.21739130434782608)\n",
      "('Financial liabilities to shareholders', 0.19801980198019803)\n",
      "('Other financial liabilities  interest', 0.19801980198019803)\n",
      "('Other financial liabilities  employees', 0.19607843137254902)\n",
      "('Financial liabilities to affiliated related companies', 0.19090909090909092)\n",
      "==================================================\n",
      "Derivative financial liabilities\n",
      "\n",
      "('Financial liabilities  Banks', 0.47368421052631576)\n",
      "('Other financial liabilities  interest', 0.4444444444444444)\n",
      "('Other financial liabilities  employees', 0.43478260869565216)\n",
      "('Financial liabilities to shareholders', 0.3829787234042553)\n",
      "('Other financial liabilities  outstanding invoices', 0.3508771929824561)\n",
      "==================================================\n",
      "Notes payable\n",
      "\n",
      "('Trade payables', 0.35294117647058826)\n",
      "('Trade payables to affiliated related companies', 0.15555555555555556)\n",
      "('Trade receivables  gross', 0.1)\n",
      "('Trade receivables from third parties', 0.0975609756097561)\n",
      "('Receivables from Governments', 0.08823529411764706)\n",
      "==================================================\n",
      "Accounts payable\n",
      "\n",
      "('Trade payables', 0.3)\n",
      "('Trade payables to affiliated related companies', 0.12244897959183673)\n",
      "('Advanced payments', 0.11538461538461539)\n",
      "('VAT foreign countries', 0.1)\n",
      "('Advance payments relating to intangible assets', 0.09433962264150944)\n",
      "==================================================\n",
      "Advances from customers\n",
      "\n",
      "('Advanced payments', 0.16129032258064516)\n",
      "('Receivables from Governments', 0.14634146341463414)\n",
      "('Trade receivables from third parties', 0.12244897959183673)\n",
      "('Financial receivables from affiliated companies', 0.11864406779661017)\n",
      "('Trade receivables from affiliated related', 0.11764705882352941)\n",
      "==================================================\n",
      "Employee benefits payable\n",
      "\n",
      "('Trade payables', 0.20689655172413793)\n",
      "('Trade payables to affiliated related companies', 0.10344827586206896)\n",
      "('Other financial liabilities  employees', 0.09259259259259259)\n",
      "('Advance payments relating to intangible assets', 0.06349206349206349)\n",
      "('Trade receivables from third parties', 0.05555555555555555)\n",
      "==================================================\n",
      "Taxes payable\n",
      "\n",
      "('Trade payables', 0.35294117647058826)\n",
      "('Trade payables to affiliated related companies', 0.15555555555555556)\n",
      "('Trade receivables  gross', 0.1)\n",
      "('Trade receivables from third parties', 0.0975609756097561)\n",
      "('Receivables from Governments', 0.08823529411764706)\n",
      "==================================================\n",
      "Interest payable\n",
      "\n",
      "('Trade payables', 0.3)\n",
      "('Trade payables to affiliated related companies', 0.12244897959183673)\n",
      "('Other financial liabilities  interest', 0.11363636363636363)\n",
      "('Advanced payments', 0.07407407407407407)\n",
      "('Trade receivables from third parties', 0.06666666666666667)\n",
      "==================================================\n",
      "Dividends payable\n",
      "\n",
      "('Trade payables', 0.2857142857142857)\n",
      "('Trade payables to affiliated related companies', 0.12)\n",
      "('Advanced payments', 0.07142857142857142)\n",
      "('Trade receivables from third parties', 0.06521739130434782)\n",
      "('Trade receivables  gross', 0.05714285714285714)\n",
      "==================================================\n",
      "Other payables\n",
      "\n",
      "('Trade payables', 0.4117647058823529)\n",
      "('Other provisions', 0.23809523809523808)\n",
      "('Other assets', 0.2222222222222222)\n",
      "('Other reserves', 0.2)\n",
      "('Other liabilities', 0.17391304347826086)\n",
      "==================================================\n",
      "Noncurrent liabilities due within one year\n",
      "\n",
      "('Other liabilities', 0.2222222222222222)\n",
      "('Deferred tax liabilities', 0.21568627450980393)\n",
      "('Financial liabilities  Banks', 0.2)\n",
      "('Financial liabilities to shareholders', 0.171875)\n",
      "('Other financial liabilities  interest', 0.171875)\n",
      "==================================================\n",
      "Other current liabilities\n",
      "\n",
      "('Other liabilities', 0.5833333333333334)\n",
      "('Deferred tax liabilities', 0.3235294117647059)\n",
      "('Other financial liabilities  interest', 0.3181818181818182)\n",
      "('Other financial liabilities  employees', 0.3111111111111111)\n",
      "('Other liabilities to affiliated related companies', 0.28)\n",
      "==================================================\n",
      "Total current liabilities\n",
      "\n",
      "('Other liabilities', 0.35714285714285715)\n",
      "('Deferred tax liabilities', 0.3235294117647059)\n",
      "('Financial liabilities  Banks', 0.2894736842105263)\n",
      "('Financial liabilities to shareholders', 0.23404255319148937)\n",
      "('Other financial liabilities  interest', 0.23404255319148937)\n",
      "==================================================\n",
      "Noncurrent liabilities\n",
      "\n",
      "('Other liabilities', 0.4)\n",
      "('Deferred tax liabilities', 0.3548387096774194)\n",
      "('Financial liabilities  Banks', 0.2777777777777778)\n",
      "('Financial liabilities to shareholders', 0.2222222222222222)\n",
      "('Other financial liabilities  interest', 0.2222222222222222)\n",
      "==================================================\n",
      "Longterm loans\n",
      "\n",
      "('Longterm investments', 0.30434782608695654)\n",
      "('Shortterm securities', 0.1111111111111111)\n",
      "('Other short term deposits', 0.09375)\n",
      "('Other financial liabilities  interest', 0.021739130434782608)\n",
      "('Raw materials and manufacturing supplies', 0.020833333333333332)\n",
      "==================================================\n",
      "Bonds payable\n",
      "\n",
      "('Trade payables', 0.35294117647058826)\n",
      "('Trade payables to affiliated related companies', 0.13043478260869565)\n",
      "('Advanced payments', 0.08333333333333333)\n",
      "('Trade receivables from third parties', 0.07142857142857142)\n",
      "('Trade receivables  gross', 0.06451612903225806)\n",
      "==================================================\n",
      "IncludingPreference shares\n",
      "\n",
      "('Financial liabilities to shareholders', 0.07272727272727272)\n",
      "('Shares in other participations', 0.061224489795918366)\n",
      "('Shares in affiliated companies', 0.061224489795918366)\n",
      "('Shares in associated companies', 0.061224489795918366)\n",
      "('Deferred income', 0.05714285714285714)\n",
      "==================================================\n",
      "Perpetual bonds\n",
      "\n",
      "('Capital reserve', 0.04)\n",
      "('Other financial assets', 0.03125)\n",
      "('Financial liabilities  Banks', 0.02631578947368421)\n",
      "('Industrial rights and similiar rights', 0.023809523809523808)\n",
      "('Technical equipment and machinery', 0.023255813953488372)\n",
      "==================================================\n",
      "Longterm payables\n",
      "\n",
      "('Trade payables', 0.35)\n",
      "('Longterm investments', 0.2692307692307692)\n",
      "('Trade payables to affiliated related companies', 0.14285714285714285)\n",
      "('Shortterm securities', 0.1)\n",
      "('Trade receivables from third parties', 0.08888888888888889)\n",
      "==================================================\n",
      "Longterm employee benefits payable\n",
      "\n",
      "('Longterm investments', 0.16279069767441862)\n",
      "('Trade payables', 0.15789473684210525)\n",
      "('Other financial liabilities  employees', 0.11475409836065574)\n",
      "('Trade payables to affiliated related companies', 0.08955223880597014)\n",
      "('Other short term deposits', 0.0784313725490196)\n",
      "==================================================\n",
      "Special payables\n",
      "\n",
      "('Trade payables', 0.3684210526315789)\n",
      "('Trade payables to affiliated related companies', 0.14583333333333334)\n",
      "('Financial receivables from affiliated companies', 0.11320754716981132)\n",
      "('Financial receivables from third parties and related companies', 0.109375)\n",
      "('Other financial assets', 0.0967741935483871)\n",
      "==================================================\n",
      "Provisions\n",
      "\n",
      "('Other provisions', 0.4666666666666667)\n",
      "('Provisions for taxes', 0.4444444444444444)\n",
      "('Warranty provisions', 0.3888888888888889)\n",
      "('Construction in progress', 0.07142857142857142)\n",
      "('Shares in other participations', 0.058823529411764705)\n",
      "==================================================\n",
      "Deferred income\n",
      "\n",
      "('Deferred income', 1.0)\n",
      "('Deferred expenses and accrued income', 0.3939393939393939)\n",
      "('Deferred income and accrued expenses', 0.3939393939393939)\n",
      "('Deferred tax assets', 0.30434782608695654)\n",
      "('Deferred tax liabilities', 0.25)\n",
      "==================================================\n",
      "Deferred tax liabilities\n",
      "\n",
      "('Deferred tax liabilities', 1.0)\n",
      "('Deferred tax assets', 0.39285714285714285)\n",
      "('Other liabilities', 0.37037037037037035)\n",
      "('Financial liabilities  Banks', 0.2631578947368421)\n",
      "('Deferred income', 0.25)\n",
      "==================================================\n",
      "Other noncurrent liabilities\n",
      "\n",
      "('Other liabilities', 0.5185185185185185)\n",
      "('Other noncurrent financial instruments', 0.32608695652173914)\n",
      "('Other financial liabilities  interest', 0.2978723404255319)\n",
      "('Deferred tax liabilities', 0.2972972972972973)\n",
      "('Other financial liabilities  employees', 0.2916666666666667)\n",
      "==================================================\n",
      "Total noncurrent liabilities\n",
      "\n",
      "('Other liabilities', 0.3225806451612903)\n",
      "('Deferred tax liabilities', 0.2972972972972973)\n",
      "('Financial liabilities  Banks', 0.2682926829268293)\n",
      "('Financial liabilities to shareholders', 0.22)\n",
      "('Other noncurrent financial instruments', 0.22)\n",
      "==================================================\n",
      "Total liabilities\n",
      "\n",
      "('Other liabilities', 0.5)\n",
      "('Financial liabilities  Banks', 0.41379310344827586)\n",
      "('Deferred tax liabilities', 0.37037037037037035)\n",
      "('Financial liabilities to shareholders', 0.3157894736842105)\n",
      "('Other financial liabilities  interest', 0.3157894736842105)\n",
      "==================================================\n",
      "Share capital\n",
      "\n",
      "('Subscriped capital', 0.2857142857142857)\n",
      "('Capital reserve', 0.2)\n",
      "('Capitalized development costs', 0.11764705882352941)\n",
      "('Shares in other participations', 0.08333333333333333)\n",
      "('Shares in affiliated companies', 0.08333333333333333)\n",
      "==================================================\n",
      "Other equity instruments\n",
      "\n",
      "('Other noncurrent financial instruments', 0.32558139534883723)\n",
      "('Other equipment and office equipment', 0.2631578947368421)\n",
      "('Other assets', 0.14285714285714285)\n",
      "('Other reserves', 0.13333333333333333)\n",
      "('Restricted cash included inc ash can cash equivalents', 0.125)\n",
      "==================================================\n",
      "Capital reserve\n",
      "\n",
      "('Capital reserve', 1.0)\n",
      "('Other reserves', 0.3157894736842105)\n",
      "('Subscriped capital', 0.16)\n",
      "('Capitalized development costs', 0.14285714285714285)\n",
      "('Financial receivables from affiliated companies', 0.05454545454545454)\n",
      "==================================================\n",
      "Lesstreasury stock\n",
      "\n",
      "('Construction in progress', 0.05555555555555555)\n",
      "('Work in progress', 0.034482758620689655)\n",
      "('Industrial rights and similiar rights', 0.022222222222222223)\n",
      "('Other noncurrent financial instruments', 0.02)\n",
      "('Restricted cash included inc ash can cash equivalents', 0.017857142857142856)\n",
      "==================================================\n",
      "Other comprehensive income\n",
      "\n",
      "('Deferred income', 0.16129032258064516)\n",
      "('Receivables for other tax than income tax', 0.15384615384615385)\n",
      "('Other assets', 0.13793103448275862)\n",
      "('Other reserves', 0.12903225806451613)\n",
      "('Other liabilities to affiliated related companies', 0.12280701754385964)\n",
      "==================================================\n",
      "Special reserve\n",
      "\n",
      "('Capital reserve', 0.4444444444444444)\n",
      "('Other reserves', 0.3157894736842105)\n",
      "('Other financial assets', 0.1)\n",
      "('Financial receivables from affiliated companies', 0.09433962264150944)\n",
      "('Other financial liabilities  interest', 0.09090909090909091)\n",
      "==================================================\n",
      "Surplus reserve\n",
      "\n",
      "('Other reserves', 0.3157894736842105)\n",
      "('Capital reserve', 0.3)\n",
      "('Work in progress', 0.038461538461538464)\n",
      "('Advance payments relating to intangible assets', 0.03636363636363636)\n",
      "('Finished goods parts and products held for resale', 0.03508771929824561)\n",
      "==================================================\n",
      "Undistributed profits\n",
      "\n",
      "('Construction in progress', 0.07894736842105263)\n",
      "('Restricted cash included inc ash can cash equivalents', 0.07142857142857142)\n",
      "('Restricted cash excluded from cash and cash equivalents', 0.07017543859649122)\n",
      "('Finished goods parts and products held for resale', 0.06557377049180328)\n",
      "('Work in progress', 0.06451612903225806)\n",
      "==================================================\n",
      "Total shareholders equity attributable to the parent\n",
      "\n",
      "('Financial liabilities to shareholders', 0.2)\n",
      "('Advance payments relating to property plant and equipment', 0.0967741935483871)\n",
      "('Advance payments relating to intangible assets', 0.08139534883720931)\n",
      "('Advance payments relating to property plant and equipment from affiliated related companies', 0.07563025210084033)\n",
      "('Trade payables to affiliated related companies', 0.07142857142857142)\n",
      "==================================================\n",
      "Minority interests\n",
      "\n",
      "('Other financial liabilities  interest', 0.1590909090909091)\n",
      "('Longterm investments', 0.0967741935483871)\n",
      "('Work in progress', 0.07142857142857142)\n",
      "('Shortterm securities', 0.0625)\n",
      "('Construction in progress', 0.05555555555555555)\n",
      "==================================================\n",
      "Total shareholders equity\n",
      "\n",
      "('Financial liabilities to shareholders', 0.2608695652173913)\n",
      "('Technical equipment and machinery', 0.08)\n",
      "('Other equipment and office equipment', 0.06521739130434782)\n",
      "('Capital reserve', 0.058823529411764705)\n",
      "('Restricted cash included inc ash can cash equivalents', 0.04918032786885246)\n",
      "==================================================\n",
      "Total liabilities and shareholders equity\n",
      "\n",
      "('Financial liabilities to shareholders', 0.48)\n",
      "('Financial liabilities  Banks', 0.25)\n",
      "('Other liabilities', 0.22727272727272727)\n",
      "('Other financial liabilities  interest', 0.21311475409836064)\n",
      "('Other financial liabilities  employees', 0.20967741935483872)\n"
     ]
    }
   ],
   "source": [
    "for k, v in bigram.items():\n",
    "    print(\"=\"*50)\n",
    "    print(k + \"\\n\")\n",
    "    for item in v[0]:\n",
    "        print(item)"
   ]
  },
  {
   "cell_type": "code",
   "execution_count": 235,
   "metadata": {
    "collapsed": false,
    "scrolled": true
   },
   "outputs": [
    {
     "name": "stdout",
     "output_type": "stream",
     "text": [
      "==================================================\n",
      "0 \n",
      "0.04\n",
      "0.07692307692307693\n",
      "Current assets -- Trade payables to affiliated related companies\n",
      "==================================================\n",
      "1 \n",
      "0.021739130434782608\n",
      "0.0425531914893617\n",
      "Current assets -- Trade receivables from third parties\n",
      "==================================================\n",
      "2 \n",
      "0.08333333333333333\n",
      "0.15384615384615385\n",
      "Current assets -- Land and land rights\n",
      "==================================================\n",
      "3 \n",
      "0.2608695652173913\n",
      "0.41379310344827586\n",
      "Current assets -- Income tax assets\n",
      "==================================================\n",
      "4 \n",
      "0.058823529411764705\n",
      "0.1111111111111111\n",
      "Current assets -- Other short term deposits\n",
      "==================================================\n",
      "5 \n",
      "0.0\n",
      "0.0\n",
      "Current assets -- Other financial liabilities  employees\n",
      "==================================================\n",
      "6 \n",
      "0.0\n",
      "0.0\n",
      "Current assets -- VAT domestic\n",
      "==================================================\n",
      "7 \n",
      "0.11538461538461539\n",
      "0.20689655172413793\n",
      "Current assets -- Advanced payments\n",
      "==================================================\n",
      "8 \n",
      "0.021739130434782608\n",
      "0.0425531914893617\n",
      "Current assets -- Financial liabilities to shareholders\n",
      "==================================================\n",
      "9 \n",
      "0.0\n",
      "0.0\n",
      "Current assets -- Goodwill\n",
      "==================================================\n",
      "10 \n",
      "0.10416666666666667\n",
      "0.18867924528301888\n",
      "Current assets -- Restricted cash excluded from cash and cash equivalents\n",
      "==================================================\n",
      "11 \n",
      "0.125\n",
      "0.2222222222222222\n",
      "Current assets -- Prepayments to suppliers\n",
      "==================================================\n",
      "12 \n",
      "0.1111111111111111\n",
      "0.2\n",
      "Current assets -- Restricted cash included inc ash can cash equivalents\n",
      "==================================================\n",
      "13 \n",
      "0.08\n",
      "0.14814814814814814\n",
      "Current assets -- Capital reserve\n",
      "==================================================\n",
      "14 \n",
      "0.1\n",
      "0.18181818181818182\n",
      "Current assets -- Technical equipment and machinery\n",
      "==================================================\n",
      "15 \n",
      "0.03571428571428571\n",
      "0.06896551724137931\n",
      "Current assets -- Other financial liabilities to affiliated related companies\n",
      "==================================================\n",
      "16 \n",
      "0.0\n",
      "0.0\n",
      "Current assets -- Tooling\n",
      "==================================================\n",
      "17 \n",
      "0.0\n",
      "0.0\n",
      "Current assets -- Provisions for taxes\n",
      "==================================================\n",
      "18 \n",
      "0.04081632653061224\n",
      "0.0784313725490196\n",
      "Current assets -- Other liabilities to affiliated related companies\n",
      "==================================================\n",
      "19 \n",
      "0.029411764705882353\n",
      "0.05714285714285714\n",
      "Current assets -- Buildings and factories\n",
      "==================================================\n",
      "20 \n",
      "0.0\n",
      "0.0\n",
      "Current assets -- Trademarks\n",
      "==================================================\n",
      "21 \n",
      "0.10810810810810811\n",
      "0.1951219512195122\n",
      "Current assets -- Capitalized development costs\n",
      "==================================================\n",
      "22 \n",
      "0.06666666666666667\n",
      "0.125\n",
      "Current assets -- Shortterm securities\n",
      "==================================================\n",
      "23 \n",
      "0.07692307692307693\n",
      "0.14285714285714285\n",
      "Current assets -- Work in progress\n",
      "==================================================\n",
      "24 \n",
      "0.08\n",
      "0.14814814814814814\n",
      "Current assets -- Deferred income\n",
      "==================================================\n",
      "25 \n",
      "0.043478260869565216\n",
      "0.08333333333333333\n",
      "Current assets -- Cash in hand\n",
      "==================================================\n",
      "26 \n",
      "0.11428571428571428\n",
      "0.20512820512820512\n",
      "Current assets -- Other equipment and office equipment\n",
      "==================================================\n",
      "27 \n",
      "0.0\n",
      "0.0\n",
      "Current assets -- Vehicles\n",
      "==================================================\n",
      "28 \n",
      "0.03773584905660377\n",
      "0.07272727272727272\n",
      "Current assets -- Financial receivables from affiliated companies\n",
      "==================================================\n",
      "29 \n",
      "0.058823529411764705\n",
      "0.1111111111111111\n",
      "Current assets -- Trade receivables  gross\n",
      "==================================================\n",
      "30 \n",
      "0.043478260869565216\n",
      "0.08333333333333333\n",
      "Current assets -- Raw materials and manufacturing supplies\n",
      "==================================================\n",
      "31 \n",
      "0.34782608695652173\n",
      "0.5161290322580645\n",
      "Current assets -- Deferred tax assets\n",
      "==================================================\n",
      "32 \n",
      "0.0\n",
      "0.0\n",
      "Current assets -- Other provisions\n",
      "==================================================\n",
      "33 \n",
      "0.0625\n",
      "0.11764705882352941\n",
      "Current assets -- Construction in progress\n",
      "==================================================\n",
      "34 \n",
      "0.0\n",
      "0.0\n",
      "Current assets -- Financial liabilities  Banks\n",
      "==================================================\n",
      "35 \n",
      "0.02564102564102564\n",
      "0.05\n",
      "Current assets -- Trade receivables  write down\n",
      "==================================================\n",
      "36 \n",
      "0.018518518518518517\n",
      "0.03636363636363636\n",
      "Current assets -- Other financial liabilities  outstanding invoices\n",
      "==================================================\n",
      "37 \n",
      "0.0\n",
      "0.0\n",
      "Current assets -- Trade payables\n",
      "==================================================\n",
      "38 \n",
      "0.043478260869565216\n",
      "0.08333333333333333\n",
      "Current assets -- Trade receivables from affiliated related\n",
      "==================================================\n",
      "39 \n",
      "0.0\n",
      "0.0\n",
      "Current assets -- Receivables for other tax than icome tax\n",
      "==================================================\n",
      "40 \n",
      "0.06451612903225806\n",
      "0.12121212121212122\n",
      "Current assets -- VAT foreign countries\n",
      "==================================================\n",
      "41 \n",
      "0.13636363636363635\n",
      "0.24\n",
      "Current assets -- Cash at banks\n",
      "==================================================\n",
      "42 \n",
      "0.1111111111111111\n",
      "0.2\n",
      "Current assets -- Advance payments relating to property plant and equipment\n",
      "==================================================\n",
      "43 \n",
      "0.09090909090909091\n",
      "0.16666666666666666\n",
      "Current assets -- Other reserves\n",
      "==================================================\n",
      "44 \n",
      "0.0\n",
      "0.0\n",
      "Current assets -- Other liabilities\n",
      "==================================================\n",
      "45 \n",
      "0.06896551724137931\n",
      "0.12903225806451613\n",
      "Current assets -- Warranty provisions\n",
      "==================================================\n",
      "46 \n",
      "0.037037037037037035\n",
      "0.07142857142857142\n",
      "Current assets -- Retained earnings\n",
      "==================================================\n",
      "47 \n",
      "0.2\n",
      "0.3333333333333333\n",
      "Current assets -- Allowance on other assets\n",
      "==================================================\n",
      "48 \n",
      "0.1794871794871795\n",
      "0.30434782608695654\n",
      "Current assets -- Other noncurrent financial instruments\n",
      "==================================================\n",
      "49 \n",
      "0.10344827586206896\n",
      "0.1875\n",
      "Current assets -- Longterm investments\n",
      "==================================================\n",
      "50 \n",
      "0.06\n",
      "0.11320754716981132\n",
      "Current assets -- Finished goods parts and products held for resale\n",
      "==================================================\n",
      "51 \n",
      "0.20930232558139536\n",
      "0.34615384615384615\n",
      "Current assets -- Advance payments relating to intangible assets\n",
      "==================================================\n",
      "52 \n",
      "0.3333333333333333\n",
      "0.5\n",
      "Current assets -- Other assets\n",
      "==================================================\n",
      "53 \n",
      "0.04081632653061224\n",
      "0.0784313725490196\n",
      "Current assets -- Receivables from affiliated related companies\n",
      "==================================================\n",
      "54 \n",
      "0.03333333333333333\n",
      "0.06451612903225806\n",
      "Current assets -- Financial receivables from third parties and related companies\n",
      "==================================================\n",
      "55 \n",
      "0.08108108108108109\n",
      "0.15\n",
      "Current assets -- Receivables from Governments\n",
      "==================================================\n",
      "56 \n",
      "0.0\n",
      "0.0\n",
      "Current assets -- Subscriped capital\n",
      "==================================================\n",
      "57 \n",
      "0.06060606060606061\n",
      "0.11428571428571428\n",
      "Current assets -- Deferred tax liabilities\n",
      "==================================================\n",
      "58 \n",
      "0.1875\n",
      "0.3157894736842105\n",
      "Current assets -- Patents\n",
      "==================================================\n",
      "59 \n",
      "0.08333333333333333\n",
      "0.15384615384615385\n",
      "Current assets -- Advance payments relating to property plant and equipment from affiliated related companies\n",
      "==================================================\n",
      "60 \n",
      "0.1282051282051282\n",
      "0.22727272727272727\n",
      "Current assets -- Deferred expenses and accrued income\n",
      "==================================================\n",
      "61 \n",
      "0.047619047619047616\n",
      "0.09090909090909091\n",
      "Current assets -- Other financial liabilities  interest\n",
      "==================================================\n",
      "62 \n",
      "0.02631578947368421\n",
      "0.05128205128205128\n",
      "Current assets -- Shares in other participations\n",
      "==================================================\n",
      "63 \n",
      "0.21428571428571427\n",
      "0.35294117647058826\n",
      "Current assets -- Other financial assets\n",
      "==================================================\n",
      "64 \n",
      "0.1282051282051282\n",
      "0.22727272727272727\n",
      "Current assets -- Deferred income and accrued expenses\n",
      "==================================================\n",
      "65 \n",
      "0.05128205128205128\n",
      "0.0975609756097561\n",
      "Current assets -- Shares in affiliated companies\n",
      "==================================================\n",
      "66 \n",
      "0.0\n",
      "0.0\n",
      "Current assets -- Receivables for other tax than income tax\n",
      "==================================================\n",
      "67 \n",
      "0.10810810810810811\n",
      "0.1951219512195122\n",
      "Current assets -- Shares in associated companies\n",
      "==================================================\n",
      "68 \n",
      "0.0392156862745098\n",
      "0.07547169811320754\n",
      "Current assets -- Financial liabilities to affiliated related companies\n",
      "==================================================\n",
      "69 \n",
      "0.05263157894736842\n",
      "0.1\n",
      "Current assets -- Industrial rights and similiar rights\n"
     ]
    }
   ],
   "source": [
    "for i, target in enumerate(targetDF):\n",
    "    tarNgram = nGramCharTransformer(target)\n",
    "    score = jaccardCoefficient(src1, tarNgram)\n",
    "    score2= tverskyIndex(src1, tarNgram)\n",
    "    print(\"=\"*50)\n",
    "    print(\"{} \\n{}\\n{}\\n{} -- {}\".format(i, score, score2, sourceDf[0], target))"
   ]
  },
  {
   "cell_type": "markdown",
   "metadata": {
    "deletable": true,
    "editable": true
   },
   "source": [
    "## n-gram (word level) recommender (Jaccard)"
   ]
  },
  {
   "cell_type": "code",
   "execution_count": null,
   "metadata": {
    "collapsed": true,
    "deletable": true,
    "editable": true
   },
   "outputs": [],
   "source": []
  },
  {
   "cell_type": "markdown",
   "metadata": {
    "deletable": true,
    "editable": true
   },
   "source": [
    "## TF matching"
   ]
  },
  {
   "cell_type": "code",
   "execution_count": null,
   "metadata": {
    "collapsed": true,
    "deletable": true,
    "editable": true
   },
   "outputs": [],
   "source": []
  },
  {
   "cell_type": "markdown",
   "metadata": {
    "deletable": true,
    "editable": true
   },
   "source": [
    "## TF-IDF matching"
   ]
  },
  {
   "cell_type": "code",
   "execution_count": null,
   "metadata": {
    "collapsed": true,
    "deletable": true,
    "editable": true
   },
   "outputs": [],
   "source": []
  },
  {
   "cell_type": "markdown",
   "metadata": {
    "deletable": true,
    "editable": true
   },
   "source": [
    "## Levenshtein distance"
   ]
  },
  {
   "cell_type": "code",
   "execution_count": null,
   "metadata": {
    "collapsed": true,
    "deletable": true,
    "editable": true
   },
   "outputs": [],
   "source": []
  },
  {
   "cell_type": "markdown",
   "metadata": {
    "deletable": true,
    "editable": true
   },
   "source": [
    "## LSA factorization"
   ]
  },
  {
   "cell_type": "code",
   "execution_count": null,
   "metadata": {
    "collapsed": true,
    "deletable": true,
    "editable": true
   },
   "outputs": [],
   "source": []
  },
  {
   "cell_type": "markdown",
   "metadata": {
    "deletable": true,
    "editable": true
   },
   "source": [
    "## SVM"
   ]
  },
  {
   "cell_type": "code",
   "execution_count": null,
   "metadata": {
    "collapsed": true,
    "deletable": true,
    "editable": true
   },
   "outputs": [],
   "source": []
  },
  {
   "cell_type": "markdown",
   "metadata": {
    "deletable": true,
    "editable": true
   },
   "source": [
    "## word2vec"
   ]
  },
  {
   "cell_type": "code",
   "execution_count": null,
   "metadata": {
    "collapsed": true,
    "deletable": true,
    "editable": true
   },
   "outputs": [],
   "source": []
  }
 ],
 "metadata": {
  "kernelspec": {
   "display_name": "Python 3",
   "language": "python",
   "name": "python3"
  },
  "language_info": {
   "codemirror_mode": {
    "name": "ipython",
    "version": 3
   },
   "file_extension": ".py",
   "mimetype": "text/x-python",
   "name": "python",
   "nbconvert_exporter": "python",
   "pygments_lexer": "ipython3",
   "version": "3.6.0"
  },
  "toc": {
   "nav_menu": {},
   "number_sections": true,
   "sideBar": true,
   "skip_h1_title": false,
   "title_cell": "Table of Contents",
   "title_sidebar": "Contents",
   "toc_cell": false,
   "toc_position": {},
   "toc_section_display": true,
   "toc_window_display": false
  }
 },
 "nbformat": 4,
 "nbformat_minor": 2
}
