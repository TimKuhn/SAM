{
 "cells": [
  {
   "cell_type": "markdown",
   "metadata": {
    "deletable": true,
    "editable": true
   },
   "source": [
    "# Load file"
   ]
  },
  {
   "cell_type": "code",
   "execution_count": 2,
   "metadata": {
    "ExecuteTime": {
     "end_time": "2018-04-09T13:16:11.993697Z",
     "start_time": "2018-04-09T13:16:11.986601Z"
    },
    "collapsed": true,
    "deletable": true,
    "editable": true
   },
   "outputs": [],
   "source": [
    "# Load excel file that contains two columns \n",
    "\n",
    "#-----------------------------------------------------------\n",
    "# Source Col            ;           Target Col\n",
    "# 'Utilities'           ;   'Other manufacturing equipment'\n",
    "# 'Other stuff'         ;   'Other manufacturing equipment'\n",
    "#-----------------------------------------------------------"
   ]
  },
  {
   "cell_type": "code",
   "execution_count": 3,
   "metadata": {
    "ExecuteTime": {
     "end_time": "2018-04-09T13:16:15.441878Z",
     "start_time": "2018-04-09T13:16:15.163532Z"
    },
    "collapsed": true,
    "deletable": true,
    "editable": true
   },
   "outputs": [],
   "source": [
    "import pandas as pd"
   ]
  },
  {
   "cell_type": "code",
   "execution_count": 4,
   "metadata": {
    "ExecuteTime": {
     "end_time": "2018-04-09T13:17:10.245516Z",
     "start_time": "2018-04-09T13:17:10.238572Z"
    },
    "collapsed": true,
    "deletable": true,
    "editable": true
   },
   "outputs": [],
   "source": [
    "PATH_TO_EXCEL = \"../data/......\"\n",
    "\n",
    "# Read excel file with header = row number 1\n",
    "#df = pd.read_excel(PATH_TO_EXCEL, header=0)"
   ]
  },
  {
   "cell_type": "markdown",
   "metadata": {
    "deletable": true,
    "editable": true
   },
   "source": [
    "# pre-process source and target"
   ]
  },
  {
   "cell_type": "code",
   "execution_count": 5,
   "metadata": {
    "ExecuteTime": {
     "end_time": "2018-04-09T13:28:26.003045Z",
     "start_time": "2018-04-09T13:28:25.999557Z"
    },
    "collapsed": true,
    "deletable": true,
    "editable": true
   },
   "outputs": [],
   "source": [
    "# Potential pre-processing steps\n",
    "# (1) Stemming\n",
    "# (2) Lemmatization\n",
    "# (3) Lowercase\n",
    "# (4) Delete Organizational entities from accounts\n",
    "# (5) Delete numbers\n",
    "# (6) Harmonize words\n",
    "# (7) ..."
   ]
  },
  {
   "cell_type": "code",
   "execution_count": 6,
   "metadata": {
    "ExecuteTime": {
     "end_time": "2018-04-09T13:28:29.121397Z",
     "start_time": "2018-04-09T13:28:28.856511Z"
    },
    "collapsed": true,
    "deletable": true,
    "editable": true
   },
   "outputs": [],
   "source": [
    "import spacy"
   ]
  },
  {
   "cell_type": "code",
   "execution_count": 7,
   "metadata": {
    "ExecuteTime": {
     "end_time": "2018-04-09T13:50:42.792744Z",
     "start_time": "2018-04-09T13:50:42.754117Z"
    },
    "collapsed": true,
    "deletable": true,
    "editable": true
   },
   "outputs": [],
   "source": [
    "class PreProcessor(object):\n",
    "    \"\"\" Pre-processes a given text string using NLTK and spacy library\n",
    "    \n",
    "    \"\"\"\n",
    "    \n",
    "    def __init__(self, text, language=\"english\"):\n",
    "        \"\"\" Loading text and spacy model\n",
    "        \n",
    "        :param text: A raw string of words or sentences or corpus\n",
    "        :param language: Default 'english'. Can be switched to 'german'\n",
    "        \"\"\"\n",
    "        \n",
    "        self.text = text\n",
    "        self.language = language\n",
    "        \n",
    "        if not ((self.language is \"english\") or (self.language is \"german\")):\n",
    "            raise Exception(\"Please provide valid language parameter\")\n",
    "            return None\n",
    "            \n",
    "    def _text2spacyToken(self, text):\n",
    "        if self.language is \"english\":\n",
    "            nlp = spacy.load(\"en\")\n",
    "        elif self.language is \"german\":\n",
    "            nlp = spacy.load(\"de\")\n",
    "            \n",
    "        doc = nlp(text)\n",
    "        \n",
    "        return doc.text\n",
    "        \n",
    "    def stemming(self, stemmer=\"SnowballStemmer\"):\n",
    "        \n",
    "        stemmedText = _text2spacyToken(self.text)\n",
    "        return stemmedText        \n",
    "            \n",
    "    def test(self):\n",
    "        pass\n",
    "    "
   ]
  },
  {
   "cell_type": "code",
   "execution_count": 8,
   "metadata": {
    "ExecuteTime": {
     "end_time": "2018-04-09T13:50:43.069788Z",
     "start_time": "2018-04-09T13:50:42.917513Z"
    },
    "collapsed": true,
    "deletable": true,
    "editable": true
   },
   "outputs": [],
   "source": [
    "processed = PreProcessor(\"Hello world\", language=\"german\")"
   ]
  },
  {
   "cell_type": "code",
   "execution_count": 9,
   "metadata": {
    "ExecuteTime": {
     "end_time": "2018-04-09T13:50:43.122399Z",
     "start_time": "2018-04-09T13:50:43.072062Z"
    },
    "collapsed": true,
    "deletable": true,
    "editable": true
   },
   "outputs": [],
   "source": [
    "txt = processed.stemming"
   ]
  },
  {
   "cell_type": "code",
   "execution_count": 10,
   "metadata": {
    "ExecuteTime": {
     "end_time": "2018-04-09T13:50:45.909920Z",
     "start_time": "2018-04-09T13:50:45.900338Z"
    },
    "collapsed": false,
    "deletable": true,
    "editable": true
   },
   "outputs": [
    {
     "data": {
      "text/plain": [
       "<bound method PreProcessor.stemming of <__main__.PreProcessor object at 0x111b704a8>>"
      ]
     },
     "execution_count": 10,
     "metadata": {},
     "output_type": "execute_result"
    }
   ],
   "source": [
    "txt"
   ]
  },
  {
   "cell_type": "code",
   "execution_count": 12,
   "metadata": {
    "collapsed": true
   },
   "outputs": [],
   "source": [
    "import pandas as pd"
   ]
  },
  {
   "cell_type": "code",
   "execution_count": 18,
   "metadata": {
    "collapsed": false
   },
   "outputs": [
    {
     "data": {
      "text/html": [
       "<div>\n",
       "<table border=\"1\" class=\"dataframe\">\n",
       "  <thead>\n",
       "    <tr style=\"text-align: right;\">\n",
       "      <th></th>\n",
       "      <th>PRC (Source)</th>\n",
       "      <th>IFRS (Target)</th>\n",
       "      <th>Unnamed: 2</th>\n",
       "      <th>Unnamed: 3</th>\n",
       "    </tr>\n",
       "  </thead>\n",
       "  <tbody>\n",
       "    <tr>\n",
       "      <th>0</th>\n",
       "      <td>Level1</td>\n",
       "      <td>Level1</td>\n",
       "      <td>Level2</td>\n",
       "      <td>Level3</td>\n",
       "    </tr>\n",
       "    <tr>\n",
       "      <th>1</th>\n",
       "      <td>Current assets:</td>\n",
       "      <td>Intangible assets</td>\n",
       "      <td>Industrial rights and similiar rights</td>\n",
       "      <td>NaN</td>\n",
       "    </tr>\n",
       "    <tr>\n",
       "      <th>2</th>\n",
       "      <td>Currency funds</td>\n",
       "      <td>Intangible assets</td>\n",
       "      <td>Trademarks</td>\n",
       "      <td>NaN</td>\n",
       "    </tr>\n",
       "    <tr>\n",
       "      <th>3</th>\n",
       "      <td>Financial assets measured at fair value throu...</td>\n",
       "      <td>Intangible assets</td>\n",
       "      <td>Patents</td>\n",
       "      <td>NaN</td>\n",
       "    </tr>\n",
       "    <tr>\n",
       "      <th>4</th>\n",
       "      <td>Derivative financial assets</td>\n",
       "      <td>Intangible assets</td>\n",
       "      <td>Goodwill</td>\n",
       "      <td>NaN</td>\n",
       "    </tr>\n",
       "  </tbody>\n",
       "</table>\n",
       "</div>"
      ],
      "text/plain": [
       "                                        PRC (Source)      IFRS (Target)  \\\n",
       "0                                             Level1             Level1   \n",
       "1                                    Current assets:  Intangible assets   \n",
       "2                                     Currency funds  Intangible assets   \n",
       "3   Financial assets measured at fair value throu...  Intangible assets   \n",
       "4                        Derivative financial assets  Intangible assets   \n",
       "\n",
       "                              Unnamed: 2 Unnamed: 3  \n",
       "0                                 Level2     Level3  \n",
       "1  Industrial rights and similiar rights        NaN  \n",
       "2                             Trademarks        NaN  \n",
       "3                                Patents        NaN  \n",
       "4                               Goodwill        NaN  "
      ]
     },
     "execution_count": 18,
     "metadata": {},
     "output_type": "execute_result"
    }
   ],
   "source": [
    "df = pd.read_excel(\"../data/coa_target_src.xlsx\")\n",
    "df.head()"
   ]
  },
  {
   "cell_type": "code",
   "execution_count": null,
   "metadata": {
    "collapsed": true
   },
   "outputs": [],
   "source": []
  },
  {
   "cell_type": "markdown",
   "metadata": {
    "deletable": true,
    "editable": true
   },
   "source": [
    "# Recommender systems"
   ]
  },
  {
   "cell_type": "markdown",
   "metadata": {
    "deletable": true,
    "editable": true
   },
   "source": [
    "## n-gram (char level) recommender (Jaccard)"
   ]
  },
  {
   "cell_type": "code",
   "execution_count": null,
   "metadata": {
    "collapsed": true,
    "deletable": true,
    "editable": true
   },
   "outputs": [],
   "source": []
  },
  {
   "cell_type": "markdown",
   "metadata": {
    "deletable": true,
    "editable": true
   },
   "source": [
    "## n-gram (word level) recommender (Jaccard)"
   ]
  },
  {
   "cell_type": "code",
   "execution_count": null,
   "metadata": {
    "collapsed": true,
    "deletable": true,
    "editable": true
   },
   "outputs": [],
   "source": []
  },
  {
   "cell_type": "markdown",
   "metadata": {
    "deletable": true,
    "editable": true
   },
   "source": [
    "## TF matching"
   ]
  },
  {
   "cell_type": "code",
   "execution_count": null,
   "metadata": {
    "collapsed": true,
    "deletable": true,
    "editable": true
   },
   "outputs": [],
   "source": []
  },
  {
   "cell_type": "markdown",
   "metadata": {
    "deletable": true,
    "editable": true
   },
   "source": [
    "## TF-IDF matching"
   ]
  },
  {
   "cell_type": "code",
   "execution_count": null,
   "metadata": {
    "collapsed": true,
    "deletable": true,
    "editable": true
   },
   "outputs": [],
   "source": []
  },
  {
   "cell_type": "markdown",
   "metadata": {
    "deletable": true,
    "editable": true
   },
   "source": [
    "## Levenshtein distance"
   ]
  },
  {
   "cell_type": "code",
   "execution_count": null,
   "metadata": {
    "collapsed": true,
    "deletable": true,
    "editable": true
   },
   "outputs": [],
   "source": []
  },
  {
   "cell_type": "markdown",
   "metadata": {
    "deletable": true,
    "editable": true
   },
   "source": [
    "## LSA factorization"
   ]
  },
  {
   "cell_type": "code",
   "execution_count": null,
   "metadata": {
    "collapsed": true,
    "deletable": true,
    "editable": true
   },
   "outputs": [],
   "source": []
  },
  {
   "cell_type": "markdown",
   "metadata": {
    "deletable": true,
    "editable": true
   },
   "source": [
    "## SVM"
   ]
  },
  {
   "cell_type": "code",
   "execution_count": null,
   "metadata": {
    "collapsed": true,
    "deletable": true,
    "editable": true
   },
   "outputs": [],
   "source": []
  },
  {
   "cell_type": "markdown",
   "metadata": {
    "deletable": true,
    "editable": true
   },
   "source": [
    "## word2vec"
   ]
  },
  {
   "cell_type": "code",
   "execution_count": null,
   "metadata": {
    "collapsed": true,
    "deletable": true,
    "editable": true
   },
   "outputs": [],
   "source": []
  }
 ],
 "metadata": {
  "kernelspec": {
   "display_name": "Python 3",
   "language": "python",
   "name": "python3"
  },
  "language_info": {
   "codemirror_mode": {
    "name": "ipython",
    "version": 3
   },
   "file_extension": ".py",
   "mimetype": "text/x-python",
   "name": "python",
   "nbconvert_exporter": "python",
   "pygments_lexer": "ipython3",
   "version": "3.6.0"
  },
  "toc": {
   "nav_menu": {},
   "number_sections": true,
   "sideBar": true,
   "skip_h1_title": false,
   "title_cell": "Table of Contents",
   "title_sidebar": "Contents",
   "toc_cell": false,
   "toc_position": {},
   "toc_section_display": true,
   "toc_window_display": false
  }
 },
 "nbformat": 4,
 "nbformat_minor": 2
}
